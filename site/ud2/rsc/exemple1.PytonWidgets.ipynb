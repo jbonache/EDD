{
 "cells": [
  {
   "attachments": {},
   "cell_type": "markdown",
   "metadata": {},
   "source": [
    "# Exemple 1\n",
    "\n",
    "Aquest és un text markdown d'exemple, anem a fer un Hola món:"
   ]
  },
  {
   "cell_type": "code",
   "execution_count": null,
   "metadata": {},
   "outputs": [],
   "source": [
    "print (\"Hola Món\")"
   ]
  },
  {
   "attachments": {},
   "cell_type": "markdown",
   "metadata": {},
   "source": [
    "Dins els blocs de codi Python, podem també realitzar la instal·lació de paquets. \n",
    "\n",
    "Per exemple, anem a instal·lar el paquet `ipywidgets` per generar ginys d'interfícies gràfiques al nostre entorn de proves (recordeu de seleccionar-lo a la part superior esquerra):"
   ]
  },
  {
   "cell_type": "code",
   "execution_count": null,
   "metadata": {},
   "outputs": [],
   "source": [
    "pip install ipywidgets"
   ]
  },
  {
   "cell_type": "code",
   "execution_count": null,
   "metadata": {},
   "outputs": [],
   "source": [
    "import ipywidgets as widgets\n",
    "\n",
    "ignition = widgets.ToggleButton(\n",
    "    value=False,\n",
    "    description='Activa/Desactiva',\n",
    "    button_style='success',\n",
    "    tooltip=\"Canvia l'estat del botó\",\n",
    "    icon='rocket'\n",
    ")\n",
    "output = widgets.Output()\n",
    "display(ignition, output)\n",
    "def on_value_change(change):\n",
    "    with output:\n",
    "        if change['new'] == True:\n",
    "            print(\"Activat!\")\n",
    "        else:   \n",
    "            print(\"Desactivat!\")\n",
    "ignition.observe(on_value_change, names='value')"
   ]
  }
 ],
 "metadata": {
  "kernelspec": {
   "display_name": "mkdocsenv",
   "language": "python",
   "name": "python3"
  },
  "language_info": {
   "codemirror_mode": {
    "name": "ipython",
    "version": 3
   },
   "file_extension": ".py",
   "mimetype": "text/x-python",
   "name": "python",
   "nbconvert_exporter": "python",
   "pygments_lexer": "ipython3",
   "version": "3.12.3"
  },
  "orig_nbformat": 4
 },
 "nbformat": 4,
 "nbformat_minor": 2
}
